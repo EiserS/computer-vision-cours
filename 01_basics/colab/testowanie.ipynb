{
 "nbformat": 4,
 "nbformat_minor": 0,
 "metadata": {
  "colab": {
   "provenance": [],
   "authorship_tag": "ABX9TyOmrCemmmu0i/bbYv8+FSlE"
  },
  "kernelspec": {
   "name": "python3",
   "language": "python",
   "display_name": "Python 3 (ipykernel)"
  },
  "language_info": {
   "name": "python"
  }
 },
 "cells": [
  {
   "cell_type": "code",
   "execution_count": 3,
   "metadata": {
    "colab": {
     "base_uri": "https://localhost:8080/"
    },
    "id": "VVMZ2UoznE_V",
    "executionInfo": {
     "status": "ok",
     "timestamp": 1686506580822,
     "user_tz": -120,
     "elapsed": 6416,
     "user": {
      "displayName": "Damian Pawlik",
      "userId": "17478478092178794282"
     }
    },
    "outputId": "987b2996-20c1-484f-b5dc-037dc2b4e8a1",
    "ExecuteTime": {
     "end_time": "2023-06-12T17:30:30.075428900Z",
     "start_time": "2023-06-12T17:30:28.670186100Z"
    }
   },
   "outputs": [
    {
     "name": "stdout",
     "output_type": "stream",
     "text": [
      "Requirement already satisfied: opencv-python in c:\\users\\damia\\appdata\\local\\programs\\python\\python311\\lib\\site-packages (4.7.0.72)\n",
      "Requirement already satisfied: numpy>=1.21.2 in c:\\users\\damia\\appdata\\local\\programs\\python\\python311\\lib\\site-packages (from opencv-python) (1.24.3)\n"
     ]
    }
   ],
   "source": [
    "!pip install --upgrade opencv-python"
   ]
  },
  {
   "cell_type": "code",
   "source": [
    "from google.colab.patches import cv2_imshow\n",
    "import cv2\n",
    "cv2.__version__"
   ],
   "metadata": {
    "colab": {
     "base_uri": "https://localhost:8080/",
     "height": 36
    },
    "id": "Zwg33MJMnoYE",
    "executionInfo": {
     "status": "ok",
     "timestamp": 1686506586184,
     "user_tz": -120,
     "elapsed": 4,
     "user": {
      "displayName": "Damian Pawlik",
      "userId": "17478478092178794282"
     }
    },
    "outputId": "f05ff794-5f2f-445f-8049-065312bc686a",
    "ExecuteTime": {
     "end_time": "2023-06-12T17:30:30.093386600Z",
     "start_time": "2023-06-12T17:30:30.074431700Z"
    }
   },
   "execution_count": 4,
   "outputs": [
    {
     "ename": "ModuleNotFoundError",
     "evalue": "No module named 'google'",
     "output_type": "error",
     "traceback": [
      "\u001B[1;31m---------------------------------------------------------------------------\u001B[0m",
      "\u001B[1;31mModuleNotFoundError\u001B[0m                       Traceback (most recent call last)",
      "Cell \u001B[1;32mIn[4], line 1\u001B[0m\n\u001B[1;32m----> 1\u001B[0m \u001B[38;5;28;01mfrom\u001B[39;00m \u001B[38;5;21;01mgoogle\u001B[39;00m\u001B[38;5;21;01m.\u001B[39;00m\u001B[38;5;21;01mcolab\u001B[39;00m\u001B[38;5;21;01m.\u001B[39;00m\u001B[38;5;21;01mpatches\u001B[39;00m \u001B[38;5;28;01mimport\u001B[39;00m cv2_imshow\n\u001B[0;32m      2\u001B[0m \u001B[38;5;28;01mimport\u001B[39;00m \u001B[38;5;21;01mcv2\u001B[39;00m\n\u001B[0;32m      3\u001B[0m cv2\u001B[38;5;241m.\u001B[39m__version__\n",
      "\u001B[1;31mModuleNotFoundError\u001B[0m: No module named 'google'"
     ]
    }
   ]
  },
  {
   "cell_type": "code",
   "source": [
    "img = cv2.imread(filename=\"gscreenshot.png\")\n",
    "img"
   ],
   "metadata": {
    "colab": {
     "base_uri": "https://localhost:8080/"
    },
    "id": "49fo3y7_nwXU",
    "executionInfo": {
     "status": "ok",
     "timestamp": 1686510877853,
     "user_tz": -120,
     "elapsed": 468,
     "user": {
      "displayName": "Damian Pawlik",
      "userId": "17478478092178794282"
     }
    },
    "outputId": "7e8ff905-188a-41e0-d0aa-c54adc8b60d2"
   },
   "execution_count": null,
   "outputs": []
  },
  {
   "cell_type": "code",
   "source": [
    "cv2_imshow(cv2.imread(filename=\"gscreenshot.png\"))"
   ],
   "metadata": {
    "colab": {
     "base_uri": "https://localhost:8080/",
     "height": 958,
     "output_embedded_package_id": "17QPhzkTmvfjyABMMIdRdIbxTEAZ5l56J"
    },
    "id": "mXE5Oub2oMRq",
    "executionInfo": {
     "status": "ok",
     "timestamp": 1686506699133,
     "user_tz": -120,
     "elapsed": 15018,
     "user": {
      "displayName": "Damian Pawlik",
      "userId": "17478478092178794282"
     }
    },
    "outputId": "0b504ba4-f25a-4075-b053-39654f659e9d"
   },
   "execution_count": null,
   "outputs": []
  },
  {
   "cell_type": "code",
   "source": [
    "img.shape"
   ],
   "metadata": {
    "colab": {
     "base_uri": "https://localhost:8080/"
    },
    "id": "XVR_0UIpo2z3",
    "executionInfo": {
     "status": "ok",
     "timestamp": 1686506801978,
     "user_tz": -120,
     "elapsed": 393,
     "user": {
      "displayName": "Damian Pawlik",
      "userId": "17478478092178794282"
     }
    },
    "outputId": "9509af94-2089-4830-e6e4-526760aa7b6f"
   },
   "execution_count": null,
   "outputs": []
  },
  {
   "cell_type": "code",
   "source": [
    "cv2.imwrite(filename='scr.png', img=img)"
   ],
   "metadata": {
    "colab": {
     "base_uri": "https://localhost:8080/"
    },
    "id": "3MZPH1FMo91t",
    "executionInfo": {
     "status": "ok",
     "timestamp": 1686506859619,
     "user_tz": -120,
     "elapsed": 369,
     "user": {
      "displayName": "Damian Pawlik",
      "userId": "17478478092178794282"
     }
    },
    "outputId": "64db8f70-89a8-436c-9ea8-3df7d7b63e2a"
   },
   "execution_count": null,
   "outputs": []
  },
  {
   "cell_type": "code",
   "source": [
    "img = cv2.imread(filename=\"gscreenshot.png\",flags=cv2.IMREAD_GRAYSCALE)\n",
    "img"
   ],
   "metadata": {
    "colab": {
     "base_uri": "https://localhost:8080/"
    },
    "id": "AJodOJnIpj5k",
    "executionInfo": {
     "status": "ok",
     "timestamp": 1686507083979,
     "user_tz": -120,
     "elapsed": 379,
     "user": {
      "displayName": "Damian Pawlik",
      "userId": "17478478092178794282"
     }
    },
    "outputId": "66f93aab-63a7-4bc3-9466-b0d8a3fb19ff"
   },
   "execution_count": null,
   "outputs": []
  },
  {
   "cell_type": "code",
   "source": [
    "cv2_imshow(img)"
   ],
   "metadata": {
    "colab": {
     "base_uri": "https://localhost:8080/",
     "height": 958
    },
    "id": "Rji0kJtyp_Id",
    "executionInfo": {
     "status": "ok",
     "timestamp": 1686507117048,
     "user_tz": -120,
     "elapsed": 4599,
     "user": {
      "displayName": "Damian Pawlik",
      "userId": "17478478092178794282"
     }
    },
    "outputId": "b8817b5d-54c4-4f7e-b66e-ac3e0908a6c2"
   },
   "execution_count": null,
   "outputs": []
  },
  {
   "cell_type": "code",
   "source": [
    "img.shape"
   ],
   "metadata": {
    "colab": {
     "base_uri": "https://localhost:8080/"
    },
    "id": "vdiQmg8eqPUN",
    "executionInfo": {
     "status": "ok",
     "timestamp": 1686507165604,
     "user_tz": -120,
     "elapsed": 478,
     "user": {
      "displayName": "Damian Pawlik",
      "userId": "17478478092178794282"
     }
    },
    "outputId": "4ebcd11a-f170-4bf0-a61c-622f4ca1b845"
   },
   "execution_count": null,
   "outputs": []
  },
  {
   "cell_type": "code",
   "source": [
    "from sys import flags\n",
    "img1 = cv2.imread(filename=\"5.png\")\n",
    "img2 = cv2.imread(filename=\"14.png\")"
   ],
   "metadata": {
    "id": "bkoyM9E9qZAG"
   },
   "execution_count": null,
   "outputs": []
  },
  {
   "cell_type": "code",
   "source": [
    "cv2_imshow(img1)"
   ],
   "metadata": {
    "colab": {
     "base_uri": "https://localhost:8080/",
     "height": 958,
     "output_embedded_package_id": "1wt-6ebtw4jQXX5N6DRJrq1UO0AHSfRRI"
    },
    "id": "B7NkLYolr6tS",
    "executionInfo": {
     "status": "ok",
     "timestamp": 1686507632568,
     "user_tz": -120,
     "elapsed": 14114,
     "user": {
      "displayName": "Damian Pawlik",
      "userId": "17478478092178794282"
     }
    },
    "outputId": "c1f0225d-d5be-4c90-fa92-11f7aa8c656d"
   },
   "execution_count": null,
   "outputs": []
  },
  {
   "cell_type": "code",
   "source": [
    "cv2_imshow(img2)"
   ],
   "metadata": {
    "colab": {
     "base_uri": "https://localhost:8080/",
     "height": 958,
     "output_embedded_package_id": "1qeQWF0k6jFzQC2Tzh5DD0WNHpgRf_INV"
    },
    "id": "2szRtcyTsBLy",
    "executionInfo": {
     "status": "ok",
     "timestamp": 1686507654399,
     "user_tz": -120,
     "elapsed": 13973,
     "user": {
      "displayName": "Damian Pawlik",
      "userId": "17478478092178794282"
     }
    },
    "outputId": "500ee75f-3188-4f18-c373-0fb2d94e858c"
   },
   "execution_count": null,
   "outputs": []
  },
  {
   "cell_type": "code",
   "source": [
    "dst = cv2.addWeighted(src1=img1, alpha=0.3, src2=img2, beta=0.7, gamma=0)\n",
    "cv2_imshow(dst)"
   ],
   "metadata": {
    "colab": {
     "base_uri": "https://localhost:8080/",
     "height": 1000,
     "output_embedded_package_id": "135nmdjs6k7i9L4YJoFv3biOSFdC7IICr"
    },
    "id": "O15YXEwnq0Lr",
    "executionInfo": {
     "status": "ok",
     "timestamp": 1686507798577,
     "user_tz": -120,
     "elapsed": 15422,
     "user": {
      "displayName": "Damian Pawlik",
      "userId": "17478478092178794282"
     }
    },
    "outputId": "60b54e6e-a580-4379-8c30-2fd1f089e561"
   },
   "execution_count": null,
   "outputs": []
  },
  {
   "cell_type": "code",
   "source": [
    "img = cv2.imread(filename=\"14.png\")"
   ],
   "metadata": {
    "id": "JZp2jTPGtQtd"
   },
   "execution_count": null,
   "outputs": []
  },
  {
   "cell_type": "code",
   "source": [
    "left_top_square = img[:200,:200]\n",
    "print(left_top_square.shape)\n",
    "cv2_imshow(left_top_square)"
   ],
   "metadata": {
    "colab": {
     "base_uri": "https://localhost:8080/",
     "height": 234
    },
    "id": "g4ursvNEzddx",
    "executionInfo": {
     "status": "ok",
     "timestamp": 1686509775017,
     "user_tz": -120,
     "elapsed": 4,
     "user": {
      "displayName": "Damian Pawlik",
      "userId": "17478478092178794282"
     }
    },
    "outputId": "2a5ed099-9247-433f-d5f2-eb2a1a014205"
   },
   "execution_count": null,
   "outputs": []
  },
  {
   "cell_type": "code",
   "source": [
    "right_top_square = img[:200,-200:]\n",
    "print(right_top_square.shape)\n",
    "cv2_imshow(right_top_square)"
   ],
   "metadata": {
    "colab": {
     "base_uri": "https://localhost:8080/",
     "height": 234
    },
    "id": "cTa19Nkm0D_l",
    "executionInfo": {
     "status": "ok",
     "timestamp": 1686509814443,
     "user_tz": -120,
     "elapsed": 3,
     "user": {
      "displayName": "Damian Pawlik",
      "userId": "17478478092178794282"
     }
    },
    "outputId": "85a06725-ecd3-4bfa-93c4-fd71e0423fb0"
   },
   "execution_count": null,
   "outputs": []
  },
  {
   "cell_type": "code",
   "source": [
    "left_down_square = img[-500:,:500]\n",
    "print(left_down_square.shape)\n",
    "cv2_imshow(left_down_square)"
   ],
   "metadata": {
    "colab": {
     "base_uri": "https://localhost:8080/",
     "height": 534
    },
    "id": "uOcqRDfH0bL6",
    "executionInfo": {
     "status": "ok",
     "timestamp": 1686509875250,
     "user_tz": -120,
     "elapsed": 760,
     "user": {
      "displayName": "Damian Pawlik",
      "userId": "17478478092178794282"
     }
    },
    "outputId": "df7e8634-89bc-488d-8109-3487c47feacb"
   },
   "execution_count": null,
   "outputs": []
  },
  {
   "cell_type": "code",
   "source": [
    "right_down_square = img[-200:,-200:]\n",
    "print(right_down_square.shape)\n",
    "cv2_imshow(right_down_square)\n"
   ],
   "metadata": {
    "colab": {
     "base_uri": "https://localhost:8080/",
     "height": 234
    },
    "id": "S_yugqY80oAr",
    "executionInfo": {
     "status": "ok",
     "timestamp": 1686510923118,
     "user_tz": -120,
     "elapsed": 528,
     "user": {
      "displayName": "Damian Pawlik",
      "userId": "17478478092178794282"
     }
    },
    "outputId": "0f082817-f869-47ab-e6dc-db482c295d69"
   },
   "execution_count": null,
   "outputs": []
  },
  {
   "cell_type": "code",
   "source": [
    "height,width,_ = img.shape\n",
    "h0 = height//2 -100\n",
    "h1 = height//2 +100\n",
    "w0 = height//2 -100\n",
    "w1 = height//2 +100\n",
    "\n",
    "middle=img[h0:h1,w0:w1]\n",
    "cv2_imshow(middle)\n"
   ],
   "metadata": {
    "colab": {
     "base_uri": "https://localhost:8080/",
     "height": 217
    },
    "id": "iWx-aWjL4pnu",
    "executionInfo": {
     "status": "ok",
     "timestamp": 1686511068576,
     "user_tz": -120,
     "elapsed": 593,
     "user": {
      "displayName": "Damian Pawlik",
      "userId": "17478478092178794282"
     }
    },
    "outputId": "c75f6b08-ff45-425e-8fd7-a28641d324f5"
   },
   "execution_count": null,
   "outputs": []
  },
  {
   "cell_type": "code",
   "source": [
    "img[h0:h1,w0:w1] =0\n",
    "cv2_imshow(img)"
   ],
   "metadata": {
    "colab": {
     "base_uri": "https://localhost:8080/",
     "height": 958,
     "output_embedded_package_id": "1OIhDf8a5DimNAPhnJBiMS28dzhg1wTM_"
    },
    "id": "_2lFiiED5Tu3",
    "executionInfo": {
     "status": "ok",
     "timestamp": 1686511159203,
     "user_tz": -120,
     "elapsed": 14195,
     "user": {
      "displayName": "Damian Pawlik",
      "userId": "17478478092178794282"
     }
    },
    "outputId": "ec1224fe-a0cc-4bda-8bce-1539ccc8e30a"
   },
   "execution_count": null,
   "outputs": []
  },
  {
   "cell_type": "code",
   "source": [
    "img[h0:h1,w0:w1] = 255\n",
    "cv2_imshow(img)"
   ],
   "metadata": {
    "colab": {
     "base_uri": "https://localhost:8080/",
     "height": 958,
     "output_embedded_package_id": "1QLiCDVk7qEriWDNHJXXy-VjUAwf6SqhI"
    },
    "id": "DX7URtys5ibE",
    "executionInfo": {
     "status": "ok",
     "timestamp": 1686511263452,
     "user_tz": -120,
     "elapsed": 14989,
     "user": {
      "displayName": "Damian Pawlik",
      "userId": "17478478092178794282"
     }
    },
    "outputId": "cb7bdf96-f397-4739-a6d7-e8abeeb4e2f0"
   },
   "execution_count": null,
   "outputs": []
  },
  {
   "cell_type": "code",
   "source": [
    "img[h0:h1,w0:w1] =128\n",
    "cv2_imshow(img)"
   ],
   "metadata": {
    "colab": {
     "base_uri": "https://localhost:8080/",
     "height": 958,
     "output_embedded_package_id": "12cgpLzirIVeK5ZNq3qtRt8tqH0uUgkNB"
    },
    "id": "TwxItXap52jK",
    "executionInfo": {
     "status": "ok",
     "timestamp": 1686511276266,
     "user_tz": -120,
     "elapsed": 16,
     "user": {
      "displayName": "Damian Pawlik",
      "userId": "17478478092178794282"
     }
    },
    "outputId": "92446761-6c56-40d2-bf66-8e2bc10d12a7"
   },
   "execution_count": null,
   "outputs": []
  },
  {
   "cell_type": "code",
   "source": [
    "print(img.dtype)\n",
    "print(img.size)\n",
    "print(img.shape)"
   ],
   "metadata": {
    "colab": {
     "base_uri": "https://localhost:8080/"
    },
    "id": "KQMrEzDY587j",
    "executionInfo": {
     "status": "ok",
     "timestamp": 1686511373293,
     "user_tz": -120,
     "elapsed": 356,
     "user": {
      "displayName": "Damian Pawlik",
      "userId": "17478478092178794282"
     }
    },
    "outputId": "bfc252bb-7925-47bd-d929-f84dffa6821b"
   },
   "execution_count": null,
   "outputs": []
  },
  {
   "cell_type": "code",
   "source": [
    "img = cv2.imread(filename='5.png')\n",
    "cv2_imshow(img)\n"
   ],
   "metadata": {
    "colab": {
     "base_uri": "https://localhost:8080/",
     "height": 958,
     "output_embedded_package_id": "10WGeBoXpPsro2dN6D8cB3oXAKimbSAn5"
    },
    "id": "C50Vs-EL6d1W",
    "executionInfo": {
     "status": "ok",
     "timestamp": 1686512136164,
     "user_tz": -120,
     "elapsed": 15128,
     "user": {
      "displayName": "Damian Pawlik",
      "userId": "17478478092178794282"
     }
    },
    "outputId": "41463326-ea74-4342-d651-44544e25a673"
   },
   "execution_count": null,
   "outputs": []
  },
  {
   "cell_type": "code",
   "source": [
    "player = img[300:600, 500:800]\n",
    "cv2_imshow(player)"
   ],
   "metadata": {
    "colab": {
     "base_uri": "https://localhost:8080/",
     "height": 317
    },
    "id": "mLC-xOLj7Mz7",
    "executionInfo": {
     "status": "ok",
     "timestamp": 1686511789320,
     "user_tz": -120,
     "elapsed": 793,
     "user": {
      "displayName": "Damian Pawlik",
      "userId": "17478478092178794282"
     }
    },
    "outputId": "b9cdb512-fe8e-48a3-f379-cf239f59b0e9"
   },
   "execution_count": null,
   "outputs": []
  },
  {
   "cell_type": "code",
   "source": [
    "img[300:600, 200:500]=player\n",
    "cv2_imshow(img)"
   ],
   "metadata": {
    "colab": {
     "base_uri": "https://localhost:8080/",
     "height": 958,
     "output_embedded_package_id": "1YCALPDiPDOtoGJihxZtLBWJlYc5BshjO"
    },
    "id": "1F8D4bti8x25",
    "executionInfo": {
     "status": "ok",
     "timestamp": 1686512160543,
     "user_tz": -120,
     "elapsed": 13994,
     "user": {
      "displayName": "Damian Pawlik",
      "userId": "17478478092178794282"
     }
    },
    "outputId": "09fce5c4-38a6-408a-87cc-87439ba14be2"
   },
   "execution_count": null,
   "outputs": []
  },
  {
   "cell_type": "code",
   "source": [
    "img = cv2.imread(filename='5.png')\n",
    "cv2_imshow(img)"
   ],
   "metadata": {
    "colab": {
     "base_uri": "https://localhost:8080/",
     "height": 958,
     "output_embedded_package_id": "1Bt9F9hQyAhmN5AkKYFFCcJAUKRJkPDA0"
    },
    "id": "F0ldZGPy9Ye2",
    "executionInfo": {
     "status": "ok",
     "timestamp": 1686512199002,
     "user_tz": -120,
     "elapsed": 14411,
     "user": {
      "displayName": "Damian Pawlik",
      "userId": "17478478092178794282"
     }
    },
    "outputId": "9b664640-a766-47e7-fdab-b68d4d70f75a"
   },
   "execution_count": null,
   "outputs": []
  },
  {
   "cell_type": "code",
   "source": [
    "border = cv2.copyMakeBorder(src=img,top=50,bottom=50,left=50,right=50,borderType=cv2.BORDER_ISOLATED)\n",
    "cv2_imshow(border)"
   ],
   "metadata": {
    "colab": {
     "base_uri": "https://localhost:8080/",
     "height": 995,
     "output_embedded_package_id": "144-zUGgvgx4Zq3YepLbz2Yj5f_08NUhM"
    },
    "id": "owTdRdo_-w9B",
    "executionInfo": {
     "status": "ok",
     "timestamp": 1686512696950,
     "user_tz": -120,
     "elapsed": 14691,
     "user": {
      "displayName": "Damian Pawlik",
      "userId": "17478478092178794282"
     }
    },
    "outputId": "af5b7c25-7be0-4e0e-a276-8dc7c0b547a2"
   },
   "execution_count": null,
   "outputs": []
  },
  {
   "cell_type": "code",
   "source": [
    "import imutils\n",
    "import numpy as np"
   ],
   "metadata": {
    "id": "qsZc2uGxB8Fr",
    "executionInfo": {
     "status": "ok",
     "timestamp": 1686513371849,
     "user_tz": -120,
     "elapsed": 365,
     "user": {
      "displayName": "Damian Pawlik",
      "userId": "17478478092178794282"
     }
    }
   },
   "execution_count": null,
   "outputs": []
  },
  {
   "cell_type": "code",
   "source": [
    "img_resized = imutils.resize(image=img, height=400)\n",
    "cv2_imshow(img_resized)"
   ],
   "metadata": {
    "colab": {
     "base_uri": "https://localhost:8080/",
     "height": 417
    },
    "id": "uGet8MyeCARk",
    "executionInfo": {
     "status": "ok",
     "timestamp": 1686513492888,
     "user_tz": -120,
     "elapsed": 2401,
     "user": {
      "displayName": "Damian Pawlik",
      "userId": "17478478092178794282"
     }
    },
    "outputId": "5530dd7e-36ce-4922-d515-b76193ad2f09"
   },
   "execution_count": null,
   "outputs": []
  },
  {
   "cell_type": "code",
   "source": [
    "height, width = img.shape[:2]\n",
    "M = cv2.getRotationMatrix2D(center=(height //2, width//2),angle=45,scale=0.5)\n",
    "cv2_imshow(cv2.warpAffine(src=img,M=M,dsize=(width,height)))"
   ],
   "metadata": {
    "colab": {
     "base_uri": "https://localhost:8080/",
     "height": 828
    },
    "id": "cyaqfuZZCdxr",
    "executionInfo": {
     "status": "ok",
     "timestamp": 1686513751285,
     "user_tz": -120,
     "elapsed": 4659,
     "user": {
      "displayName": "Damian Pawlik",
      "userId": "17478478092178794282"
     }
    },
    "outputId": "5cb97283-1bc8-4f1b-eb2b-4c04b29173fa"
   },
   "execution_count": null,
   "outputs": []
  },
  {
   "cell_type": "code",
   "source": [
    "img_resized = imutils.resize(image=img, width=1000)\n",
    "cv2_imshow(img_resized)"
   ],
   "metadata": {
    "colab": {
     "base_uri": "https://localhost:8080/",
     "height": 579
    },
    "id": "zSwWlrnXDikx",
    "executionInfo": {
     "status": "ok",
     "timestamp": 1686513900224,
     "user_tz": -120,
     "elapsed": 4703,
     "user": {
      "displayName": "Damian Pawlik",
      "userId": "17478478092178794282"
     }
    },
    "outputId": "80c8223d-6723-4b38-9dc1-acf27cbdd2de"
   },
   "execution_count": null,
   "outputs": []
  },
  {
   "cell_type": "code",
   "source": [
    "grey = cv2.cvtColor(src=img,code=cv2.COLOR_BGR2GRAY)\n",
    "cv2_imshow(grey)"
   ],
   "metadata": {
    "colab": {
     "base_uri": "https://localhost:8080/",
     "height": 828
    },
    "id": "EHfpeB39D_ck",
    "executionInfo": {
     "status": "ok",
     "timestamp": 1686514002813,
     "user_tz": -120,
     "elapsed": 5090,
     "user": {
      "displayName": "Damian Pawlik",
      "userId": "17478478092178794282"
     }
    },
    "outputId": "4809aaca-c4cb-4f67-933d-987c9cc6e2db"
   },
   "execution_count": null,
   "outputs": []
  },
  {
   "cell_type": "code",
   "source": [
    "cv2_imshow(cv2.threshold(src=grey,thresh=125,maxval=150,type=cv2.THRESH_BINARY)[1])"
   ],
   "metadata": {
    "colab": {
     "base_uri": "https://localhost:8080/",
     "height": 828
    },
    "id": "_EYXkMHlEX7E",
    "executionInfo": {
     "status": "ok",
     "timestamp": 1686516737440,
     "user_tz": -120,
     "elapsed": 841,
     "user": {
      "displayName": "Damian Pawlik",
      "userId": "17478478092178794282"
     }
    },
    "outputId": "37508f57-8709-4a9c-aa19-c982de11a28e"
   },
   "execution_count": null,
   "outputs": []
  },
  {
   "cell_type": "code",
   "source": [
    "kernel = np.ones(shape=(5,5), dtype=np.float32)/25\n",
    "kernel"
   ],
   "metadata": {
    "colab": {
     "base_uri": "https://localhost:8080/"
    },
    "id": "qpGpaQgJFEcv",
    "executionInfo": {
     "status": "ok",
     "timestamp": 1686518743682,
     "user_tz": -120,
     "elapsed": 2,
     "user": {
      "displayName": "Damian Pawlik",
      "userId": "17478478092178794282"
     }
    },
    "outputId": "fa525c30-dbb2-4a80-e63d-4eed2a9c6707"
   },
   "execution_count": null,
   "outputs": []
  },
  {
   "cell_type": "code",
   "source": [
    "cv2_imshow(img)"
   ],
   "metadata": {
    "colab": {
     "base_uri": "https://localhost:8080/",
     "height": 828,
     "output_embedded_package_id": "1WNcxpEaN3q8o2m6OtPC97rk--ZosCyjF"
    },
    "id": "5ivFDdB6WdJL",
    "executionInfo": {
     "status": "ok",
     "timestamp": 1686526637770,
     "user_tz": -120,
     "elapsed": 14279,
     "user": {
      "displayName": "Damian Pawlik",
      "userId": "17478478092178794282"
     }
    },
    "outputId": "ee2b1f57-a2b7-4315-8e31-29e85f7146bf"
   },
   "execution_count": null,
   "outputs": []
  },
  {
   "cell_type": "code",
   "source": [
    "cv2_imshow(cv2.filter2D(src=img, ddepth=-1, kernel=kernel))"
   ],
   "metadata": {
    "colab": {
     "base_uri": "https://localhost:8080/",
     "height": 828,
     "output_embedded_package_id": "1c14U6-v8b-ZbGnL_wYgk2Qq5VyRyS_1x"
    },
    "id": "w5qzWJMzWc-M",
    "executionInfo": {
     "status": "ok",
     "timestamp": 1686526685704,
     "user_tz": -120,
     "elapsed": 10830,
     "user": {
      "displayName": "Damian Pawlik",
      "userId": "17478478092178794282"
     }
    },
    "outputId": "8ae863b4-e167-47c0-cc3f-53054f1ed236"
   },
   "execution_count": null,
   "outputs": []
  },
  {
   "cell_type": "code",
   "source": [
    "kernel = np.array([[-1, 0, 1],\n",
    "                   [-1, 0, 1],\n",
    "                   [-1, 0, 1]])\n",
    "cv2_imshow(cv2.filter2D(src=img, ddepth=-1, kernel=kernel))"
   ],
   "metadata": {
    "colab": {
     "base_uri": "https://localhost:8080/",
     "height": 828,
     "output_embedded_package_id": "1Q6yYG5PWei0Z3KVYaoCKNMBIjj03QqZi"
    },
    "id": "0EqL6pjA0zaA",
    "executionInfo": {
     "status": "ok",
     "timestamp": 1686526800559,
     "user_tz": -120,
     "elapsed": 13056,
     "user": {
      "displayName": "Damian Pawlik",
      "userId": "17478478092178794282"
     }
    },
    "outputId": "db737aaa-5d17-4d6d-f804-9b3d1135bc61"
   },
   "execution_count": null,
   "outputs": []
  },
  {
   "cell_type": "code",
   "source": [
    "kernel = np.array([[-1, 0, 1],\n",
    "                   [-5, 0, 5],\n",
    "                   [-1, 0, 1]])\n",
    "cv2_imshow(cv2.filter2D(src=img, ddepth=-1, kernel=kernel))"
   ],
   "metadata": {
    "colab": {
     "base_uri": "https://localhost:8080/",
     "height": 828,
     "output_embedded_package_id": "1skBrwn3wwbKElxn1f9zJVTKlfaYEfo4S"
    },
    "id": "jMHBWscp1SJg",
    "executionInfo": {
     "status": "ok",
     "timestamp": 1686526855493,
     "user_tz": -120,
     "elapsed": 16908,
     "user": {
      "displayName": "Damian Pawlik",
      "userId": "17478478092178794282"
     }
    },
    "outputId": "d68fd95c-d1d1-4160-ecfb-2fe34ad25d14"
   },
   "execution_count": null,
   "outputs": []
  },
  {
   "cell_type": "code",
   "source": [
    "shopboard = img[-220:, 250:1500]\n",
    "cv2_imshow(shopboard)"
   ],
   "metadata": {
    "colab": {
     "base_uri": "https://localhost:8080/",
     "height": 237
    },
    "id": "TWxwmDtE1o8j",
    "executionInfo": {
     "status": "ok",
     "timestamp": 1686527131145,
     "user_tz": -120,
     "elapsed": 1465,
     "user": {
      "displayName": "Damian Pawlik",
      "userId": "17478478092178794282"
     }
    },
    "outputId": "2e630687-f9fc-44c3-bc3b-962c6ab690da"
   },
   "execution_count": null,
   "outputs": []
  },
  {
   "cell_type": "code",
   "source": [
    "cv2_imshow(cv2.filter2D(src=shopboard, ddepth=-1, kernel=kernel))"
   ],
   "metadata": {
    "colab": {
     "base_uri": "https://localhost:8080/",
     "height": 237
    },
    "id": "epwU6J_T2gAa",
    "executionInfo": {
     "status": "ok",
     "timestamp": 1686527174064,
     "user_tz": -120,
     "elapsed": 1726,
     "user": {
      "displayName": "Damian Pawlik",
      "userId": "17478478092178794282"
     }
    },
    "outputId": "bc7567ee-e727-4b90-a849-a4d918a7053e"
   },
   "execution_count": null,
   "outputs": []
  },
  {
   "cell_type": "code",
   "source": [
    "cv2_imshow(cv2.blur(src=img, ksize=(5, 5)))"
   ],
   "metadata": {
    "colab": {
     "base_uri": "https://localhost:8080/",
     "height": 828,
     "output_embedded_package_id": "1JlT-JoX-jro-OWYS_LYRU-nW6HXBzqxh"
    },
    "id": "tJjfaWlA2sYi",
    "executionInfo": {
     "status": "ok",
     "timestamp": 1686527396431,
     "user_tz": -120,
     "elapsed": 10827,
     "user": {
      "displayName": "Damian Pawlik",
      "userId": "17478478092178794282"
     }
    },
    "outputId": "e51071e2-20b6-4be9-e43c-e51320c8f5c2"
   },
   "execution_count": null,
   "outputs": []
  },
  {
   "cell_type": "code",
   "source": [
    "cv2_imshow(cv2.Laplacian(src=img, ddepth=cv2.CV_64F))"
   ],
   "metadata": {
    "colab": {
     "base_uri": "https://localhost:8080/",
     "height": 828,
     "output_embedded_package_id": "1yL0plndC2FV02ooieyNOOlA6TATyHZqS"
    },
    "id": "NJ3HwVuv3bMe",
    "executionInfo": {
     "status": "ok",
     "timestamp": 1686527413463,
     "user_tz": -120,
     "elapsed": 14095,
     "user": {
      "displayName": "Damian Pawlik",
      "userId": "17478478092178794282"
     }
    },
    "outputId": "d1708525-4e37-4a3f-bcec-45bbb7013337"
   },
   "execution_count": null,
   "outputs": []
  },
  {
   "cell_type": "code",
   "source": [
    "cv2_imshow(cv2.Sobel(src=img, ddepth=cv2.CV_64F, dx=1, dy=0))"
   ],
   "metadata": {
    "colab": {
     "base_uri": "https://localhost:8080/",
     "height": 828,
     "output_embedded_package_id": "1jH1PCXuqtb4Bmolq_TW9sS1oTRBMarDm"
    },
    "id": "KKAIQYM53chY",
    "executionInfo": {
     "status": "ok",
     "timestamp": 1686527439155,
     "user_tz": -120,
     "elapsed": 25701,
     "user": {
      "displayName": "Damian Pawlik",
      "userId": "17478478092178794282"
     }
    },
    "outputId": "54137ba2-a2af-4e0f-a4b8-972d62c10500"
   },
   "execution_count": null,
   "outputs": []
  },
  {
   "cell_type": "code",
   "source": [
    "cv2_imshow(cv2.Sobel(src=img, ddepth=cv2.CV_64F, dx=0, dy=1))"
   ],
   "metadata": {
    "colab": {
     "base_uri": "https://localhost:8080/",
     "height": 828,
     "output_embedded_package_id": "163ptvLwRvL11suoY8vZJqF774M0fByKv"
    },
    "id": "dKVpqjrx3foO",
    "executionInfo": {
     "status": "ok",
     "timestamp": 1686527439155,
     "user_tz": -120,
     "elapsed": 28,
     "user": {
      "displayName": "Damian Pawlik",
      "userId": "17478478092178794282"
     }
    },
    "outputId": "e2db3878-1241-4350-8b96-1f856cd48b79"
   },
   "execution_count": null,
   "outputs": []
  },
  {
   "cell_type": "code",
   "source": [
    "img2 = cv2.imread(filename=\"gscreenshot.png\",flags=cv2.IMREAD_GRAYSCALE)\n",
    "cv2_imshow(img2)"
   ],
   "metadata": {
    "colab": {
     "base_uri": "https://localhost:8080/",
     "height": 828
    },
    "id": "qiNWzJ5x3vFA",
    "executionInfo": {
     "status": "ok",
     "timestamp": 1686527781409,
     "user_tz": -120,
     "elapsed": 5132,
     "user": {
      "displayName": "Damian Pawlik",
      "userId": "17478478092178794282"
     }
    },
    "outputId": "92edac8d-cf22-48a2-de9f-6ac3a3a07320"
   },
   "execution_count": null,
   "outputs": []
  },
  {
   "cell_type": "code",
   "source": [
    "cv2_imshow(cv2.Sobel(src=img2, ddepth=cv2.CV_64F, dx=1, dy=0))"
   ],
   "metadata": {
    "colab": {
     "base_uri": "https://localhost:8080/",
     "height": 828
    },
    "id": "-H_7XI2t49XY",
    "executionInfo": {
     "status": "ok",
     "timestamp": 1686527804524,
     "user_tz": -120,
     "elapsed": 4998,
     "user": {
      "displayName": "Damian Pawlik",
      "userId": "17478478092178794282"
     }
    },
    "outputId": "aea14502-06cc-4125-8dc7-4a808fa6285d"
   },
   "execution_count": null,
   "outputs": []
  },
  {
   "cell_type": "code",
   "source": [
    "cv2_imshow(cv2.Laplacian(src=img2, ddepth=cv2.CV_64F))"
   ],
   "metadata": {
    "colab": {
     "base_uri": "https://localhost:8080/",
     "height": 828
    },
    "id": "lJuQvsyE5DRN",
    "executionInfo": {
     "status": "ok",
     "timestamp": 1686527829205,
     "user_tz": -120,
     "elapsed": 4454,
     "user": {
      "displayName": "Damian Pawlik",
      "userId": "17478478092178794282"
     }
    },
    "outputId": "3c4da7aa-74c5-412f-c17f-d99baf27320c"
   },
   "execution_count": null,
   "outputs": []
  },
  {
   "cell_type": "code",
   "source": [
    "# w skali szarości\n",
    "array = np.random.randint(low=0, high=256, size=(400, 500))\n",
    "array"
   ],
   "metadata": {
    "colab": {
     "base_uri": "https://localhost:8080/"
    },
    "id": "hg4272Gz5LqA",
    "executionInfo": {
     "status": "ok",
     "timestamp": 1686527929239,
     "user_tz": -120,
     "elapsed": 412,
     "user": {
      "displayName": "Damian Pawlik",
      "userId": "17478478092178794282"
     }
    },
    "outputId": "f986217c-839e-439c-d088-9ffda767a818"
   },
   "execution_count": null,
   "outputs": []
  },
  {
   "cell_type": "code",
   "source": [
    "cv2_imshow(array)"
   ],
   "metadata": {
    "colab": {
     "base_uri": "https://localhost:8080/",
     "height": 417
    },
    "id": "w7jjmlrY5Xc0",
    "executionInfo": {
     "status": "ok",
     "timestamp": 1686527931860,
     "user_tz": -120,
     "elapsed": 5,
     "user": {
      "displayName": "Damian Pawlik",
      "userId": "17478478092178794282"
     }
    },
    "outputId": "67c4cc53-8268-4d53-f311-3c865ec4ee03"
   },
   "execution_count": null,
   "outputs": []
  },
  {
   "cell_type": "code",
   "source": [
    "# kolorowy\n",
    "array = np.random.randint(low=0, high=256, size=(400, 500, 3))\n",
    "array"
   ],
   "metadata": {
    "colab": {
     "base_uri": "https://localhost:8080/"
    },
    "id": "MsiD1n7p5hdN",
    "executionInfo": {
     "status": "ok",
     "timestamp": 1686527942756,
     "user_tz": -120,
     "elapsed": 437,
     "user": {
      "displayName": "Damian Pawlik",
      "userId": "17478478092178794282"
     }
    },
    "outputId": "490adde7-0ffe-48d0-948f-9f2a81b55a7d"
   },
   "execution_count": null,
   "outputs": []
  },
  {
   "cell_type": "code",
   "source": [
    "cv2_imshow(array)"
   ],
   "metadata": {
    "colab": {
     "base_uri": "https://localhost:8080/",
     "height": 417
    },
    "id": "UKvqyRBv5i-5",
    "executionInfo": {
     "status": "ok",
     "timestamp": 1686528000994,
     "user_tz": -120,
     "elapsed": 3236,
     "user": {
      "displayName": "Damian Pawlik",
      "userId": "17478478092178794282"
     }
    },
    "outputId": "920d5671-6bc7-41bc-f9bd-0e87368ac0f9"
   },
   "execution_count": null,
   "outputs": []
  },
  {
   "cell_type": "code",
   "source": [
    "array = np.zeros(shape=(200, 300))\n",
    "cv2_imshow(array)"
   ],
   "metadata": {
    "colab": {
     "base_uri": "https://localhost:8080/",
     "height": 217
    },
    "id": "6xZ2COQ-58iY",
    "executionInfo": {
     "status": "ok",
     "timestamp": 1686528089944,
     "user_tz": -120,
     "elapsed": 413,
     "user": {
      "displayName": "Damian Pawlik",
      "userId": "17478478092178794282"
     }
    },
    "outputId": "d0af1499-22f5-4d8e-e982-ddf49e8b5b6c"
   },
   "execution_count": null,
   "outputs": []
  },
  {
   "cell_type": "code",
   "source": [
    "array = np.full(shape=(200, 300), fill_value=255)\n",
    "cv2_imshow(array)"
   ],
   "metadata": {
    "colab": {
     "base_uri": "https://localhost:8080/",
     "height": 217
    },
    "id": "jRRjnlKk6G07",
    "executionInfo": {
     "status": "ok",
     "timestamp": 1686528098123,
     "user_tz": -120,
     "elapsed": 386,
     "user": {
      "displayName": "Damian Pawlik",
      "userId": "17478478092178794282"
     }
    },
    "outputId": "dde939e1-f455-43de-a91a-6628ebf1de67"
   },
   "execution_count": null,
   "outputs": []
  },
  {
   "cell_type": "code",
   "source": [
    "logo = cv2.imread('14.png')\n",
    "cv2_imshow(logo)"
   ],
   "metadata": {
    "colab": {
     "base_uri": "https://localhost:8080/",
     "height": 828,
     "output_embedded_package_id": "1Fd9u6v8Hm0H_qbx00eNDzNgSmryiWOTj"
    },
    "id": "QAJo6QJR6KEh",
    "executionInfo": {
     "status": "ok",
     "timestamp": 1686528184074,
     "user_tz": -120,
     "elapsed": 14939,
     "user": {
      "displayName": "Damian Pawlik",
      "userId": "17478478092178794282"
     }
    },
    "outputId": "ae78f895-c598-4e7a-eec3-a43d8cd0060e"
   },
   "execution_count": null,
   "outputs": []
  },
  {
   "cell_type": "code",
   "source": [
    "kernel_vertical = np.array([[-1, 0, 1], [-2, 0, 2], [-1, 0, 1]])\n",
    "output = cv2.filter2D(src=logo, ddepth=-1, kernel=kernel_vertical)\n",
    "cv2_imshow(output)"
   ],
   "metadata": {
    "colab": {
     "base_uri": "https://localhost:8080/",
     "height": 828,
     "output_embedded_package_id": "1QdPwK2l7ke1zQrM4-bJ1RMQZa2i5nFab"
    },
    "id": "afk1_Qqx6boR",
    "executionInfo": {
     "status": "ok",
     "timestamp": 1686528198457,
     "user_tz": -120,
     "elapsed": 14029,
     "user": {
      "displayName": "Damian Pawlik",
      "userId": "17478478092178794282"
     }
    },
    "outputId": "ad8089c3-74ce-4d7c-ddc8-142d392b1862"
   },
   "execution_count": null,
   "outputs": []
  },
  {
   "cell_type": "code",
   "source": [
    "kernel_vertical = np.array([[-1, 0, 1], [-2, 0, 2], [-1, 0, 1]])\n",
    "output = cv2.filter2D(src=logo, ddepth=-1, kernel=kernel_vertical)\n",
    "cv2_imshow(output)"
   ],
   "metadata": {
    "colab": {
     "base_uri": "https://localhost:8080/",
     "height": 828,
     "output_embedded_package_id": "1iUOCnrTsazbz2iRMVeAgrNz1xU_dm3p8"
    },
    "id": "gyOZuYtV6eNb",
    "executionInfo": {
     "status": "ok",
     "timestamp": 1686528211953,
     "user_tz": -120,
     "elapsed": 21,
     "user": {
      "displayName": "Damian Pawlik",
      "userId": "17478478092178794282"
     }
    },
    "outputId": "87280645-9bd5-4453-d2e1-b66096ddb0a0"
   },
   "execution_count": null,
   "outputs": []
  },
  {
   "cell_type": "code",
   "source": [
    "kernel_vertical = np.array([[-1, 0, 1], [-2, 0, 2], [-1, 0, 1]])\n",
    "output = cv2.filter2D(src=logo, ddepth=-1, kernel=kernel_vertical)\n",
    "cv2_imshow(output)"
   ],
   "metadata": {
    "colab": {
     "base_uri": "https://localhost:8080/",
     "height": 828,
     "output_embedded_package_id": "1mW_WhPb1om-UqcZuksvzNPB5toLEJJgR"
    },
    "id": "BhvSrL__6hHY",
    "executionInfo": {
     "status": "ok",
     "timestamp": 1686528228239,
     "user_tz": -120,
     "elapsed": 15252,
     "user": {
      "displayName": "Damian Pawlik",
      "userId": "17478478092178794282"
     }
    },
    "outputId": "3240e073-2013-4088-a584-356bd2762a21"
   },
   "execution_count": null,
   "outputs": []
  },
  {
   "cell_type": "code",
   "source": [
    "logo = cv2.imread('5.png', flags=cv2.IMREAD_GRAYSCALE)\n",
    "cv2_imshow(logo)"
   ],
   "metadata": {
    "colab": {
     "base_uri": "https://localhost:8080/",
     "height": 828
    },
    "id": "f0A4k9Wh6i3T",
    "executionInfo": {
     "status": "ok",
     "timestamp": 1686528239266,
     "user_tz": -120,
     "elapsed": 9674,
     "user": {
      "displayName": "Damian Pawlik",
      "userId": "17478478092178794282"
     }
    },
    "outputId": "9da989b9-74cc-4cc6-8cf7-efc337bac0a4"
   },
   "execution_count": null,
   "outputs": []
  },
  {
   "cell_type": "code",
   "source": [
    "cv2_imshow(cv2.filter2D(src=logo, ddepth=-1, kernel=kernel_vertical))"
   ],
   "metadata": {
    "colab": {
     "base_uri": "https://localhost:8080/",
     "height": 828
    },
    "id": "w-TdvDP26mNb",
    "executionInfo": {
     "status": "ok",
     "timestamp": 1686528239267,
     "user_tz": -120,
     "elapsed": 22,
     "user": {
      "displayName": "Damian Pawlik",
      "userId": "17478478092178794282"
     }
    },
    "outputId": "83b4f6d6-364c-4ac6-8fad-2ef45d6d3e90"
   },
   "execution_count": null,
   "outputs": []
  },
  {
   "cell_type": "code",
   "source": [
    "cv2_imshow(cv2.Sobel(src=logo, ddepth=cv2.CV_64F, dx=0, dy=1, ksize=5))"
   ],
   "metadata": {
    "colab": {
     "base_uri": "https://localhost:8080/",
     "height": 828
    },
    "id": "UyNCBbLm630N",
    "executionInfo": {
     "status": "ok",
     "timestamp": 1686528305424,
     "user_tz": -120,
     "elapsed": 5151,
     "user": {
      "displayName": "Damian Pawlik",
      "userId": "17478478092178794282"
     }
    },
    "outputId": "8e6cc599-963f-428e-aac6-306df706eb2f"
   },
   "execution_count": null,
   "outputs": []
  },
  {
   "cell_type": "code",
   "source": [
    "cv2_imshow(cv2.Laplacian(src=logo, ddepth=cv2.CV_64F))"
   ],
   "metadata": {
    "colab": {
     "base_uri": "https://localhost:8080/",
     "height": 828
    },
    "id": "4_dtvm9o66S1",
    "executionInfo": {
     "status": "ok",
     "timestamp": 1686528311870,
     "user_tz": -120,
     "elapsed": 4996,
     "user": {
      "displayName": "Damian Pawlik",
      "userId": "17478478092178794282"
     }
    },
    "outputId": "6c511bbe-a477-409a-e8ff-23b3b525db00"
   },
   "execution_count": null,
   "outputs": []
  },
  {
   "cell_type": "code",
   "source": [
    "cv2_imshow(cv2.Canny(image=logo, threshold1=0, threshold2=0))"
   ],
   "metadata": {
    "colab": {
     "base_uri": "https://localhost:8080/",
     "height": 828
    },
    "id": "zIrN46FT6_Ec",
    "executionInfo": {
     "status": "ok",
     "timestamp": 1686528328862,
     "user_tz": -120,
     "elapsed": 2312,
     "user": {
      "displayName": "Damian Pawlik",
      "userId": "17478478092178794282"
     }
    },
    "outputId": "2ea6f3ed-f4b9-4b43-ec8d-98dedee594f2"
   },
   "execution_count": null,
   "outputs": []
  },
  {
   "cell_type": "code",
   "source": [
    "cv2_imshow(cv2.Canny(image=logo, threshold1=100, threshold2=100))"
   ],
   "metadata": {
    "colab": {
     "base_uri": "https://localhost:8080/",
     "height": 1000
    },
    "id": "YAiIZfKB7A3O",
    "executionInfo": {
     "status": "ok",
     "timestamp": 1686528333918,
     "user_tz": -120,
     "elapsed": 946,
     "user": {
      "displayName": "Damian Pawlik",
      "userId": "17478478092178794282"
     }
    },
    "outputId": "71523dbe-116a-4284-cfd4-51c08d448ffc"
   },
   "execution_count": null,
   "outputs": []
  },
  {
   "cell_type": "code",
   "source": [
    "img = cv2.imread('5.png')\n",
    "cv2_imshow(img)"
   ],
   "metadata": {
    "colab": {
     "base_uri": "https://localhost:8080/",
     "height": 828,
     "output_embedded_package_id": "1zYX8nT9K5SbJe9-mHe09hGDPWNMUKtqh"
    },
    "id": "tfN2-X137rui",
    "executionInfo": {
     "status": "ok",
     "timestamp": 1686528593972,
     "user_tz": -120,
     "elapsed": 14233,
     "user": {
      "displayName": "Damian Pawlik",
      "userId": "17478478092178794282"
     }
    },
    "outputId": "71104975-fe72-4ad3-d8ff-f3b1e532d044"
   },
   "execution_count": null,
   "outputs": []
  },
  {
   "cell_type": "code",
   "source": [
    "copy = img.copy()\n",
    "cv2_imshow(cv2.rectangle(img=copy, pt1=(550, 350), pt2=(760, 500), color=(0, 0, 255), thickness=2))\n",
    "##player = img[300:600, 500:800]"
   ],
   "metadata": {
    "colab": {
     "base_uri": "https://localhost:8080/",
     "height": 828,
     "output_embedded_package_id": "1Ndtvn-R8i1xuFM7m_Nj2edcDNVeiD4SY"
    },
    "id": "Rqdduedq8AUP",
    "executionInfo": {
     "status": "ok",
     "timestamp": 1686528929800,
     "user_tz": -120,
     "elapsed": 14439,
     "user": {
      "displayName": "Damian Pawlik",
      "userId": "17478478092178794282"
     }
    },
    "outputId": "e785174b-ac8d-4816-8a0a-6e83caa5d117"
   },
   "execution_count": null,
   "outputs": []
  },
  {
   "cell_type": "code",
   "source": [
    "copy = img.copy()\n",
    "cv2_imshow(cv2.circle(img=copy, center=(650,439), radius=30, color=(0, 0, 255), thickness=1))"
   ],
   "metadata": {
    "colab": {
     "base_uri": "https://localhost:8080/",
     "height": 828,
     "output_embedded_package_id": "13XQtkR69DhReZ9QSSiJen0qcsQ5fiqFP"
    },
    "id": "SpGJOH-A9so-",
    "executionInfo": {
     "status": "ok",
     "timestamp": 1686529143207,
     "user_tz": -120,
     "elapsed": 14280,
     "user": {
      "displayName": "Damian Pawlik",
      "userId": "17478478092178794282"
     }
    },
    "outputId": "b50ac02c-ea26-46ee-a23f-9a3dc66f2df4"
   },
   "execution_count": null,
   "outputs": []
  },
  {
   "cell_type": "code",
   "source": [
    "copy = img.copy()\n",
    "cv2_imshow(cv2.line(img=copy, pt1=(550, 350), pt2=(760, 500), color=(0, 0, 255), thickness=2))"
   ],
   "metadata": {
    "colab": {
     "base_uri": "https://localhost:8080/",
     "height": 828,
     "output_embedded_package_id": "1DvBh7yrr8kuxBCEO2USkXLt5MlE0VKyb"
    },
    "id": "StejmlJQ-LMH",
    "executionInfo": {
     "status": "ok",
     "timestamp": 1686529194090,
     "user_tz": -120,
     "elapsed": 14520,
     "user": {
      "displayName": "Damian Pawlik",
      "userId": "17478478092178794282"
     }
    },
    "outputId": "d9ed81fe-736e-409b-9ebb-568a7a7f9f83"
   },
   "execution_count": null,
   "outputs": []
  },
  {
   "cell_type": "code",
   "source": [
    "copy = img.copy()\n",
    "cv2_imshow(cv2.putText(img=copy, text='OpenCV: yasuo', org=(10, 40), \n",
    "                       fontFace=cv2.FONT_HERSHEY_SIMPLEX, fontScale=1.5,\n",
    "                       color=(0, 255, 0), thickness=4))"
   ],
   "metadata": {
    "colab": {
     "base_uri": "https://localhost:8080/",
     "height": 828,
     "output_embedded_package_id": "1pFigdZaGSZ8e-GRF_G2ylW1zjsOehPK8"
    },
    "id": "-a9lvO1r-R1h",
    "executionInfo": {
     "status": "ok",
     "timestamp": 1686529217925,
     "user_tz": -120,
     "elapsed": 14242,
     "user": {
      "displayName": "Damian Pawlik",
      "userId": "17478478092178794282"
     }
    },
    "outputId": "0792f4b9-697c-4b37-d8b1-cfe87d9bcaa2"
   },
   "execution_count": null,
   "outputs": []
  }
 ]
}
